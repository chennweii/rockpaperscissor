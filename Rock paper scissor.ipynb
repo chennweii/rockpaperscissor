{
 "cells": [
  {
   "cell_type": "code",
   "execution_count": 2,
   "metadata": {},
   "outputs": [
    {
     "name": "stdout",
     "output_type": "stream",
     "text": [
      "Enter a choice (rock,paper,scissor):scissor\n",
      "\n",
      "You chose scissor, Chenwei chose rock.\n",
      "\n",
      "Rock smashes scissors, you lose.\n",
      "Play again? (yes/no): no\n"
     ]
    }
   ],
   "source": [
    "import random\n",
    "\n",
    "while True:\n",
    "    user_action = input('Enter a choice (rock,paper,scissor):')\n",
    "    possible_action = ['rock','paper','scissor']\n",
    "    computer_action = random.choice(possible_action)\n",
    "    print(f\"\\nYou chose {user_action}, Chenwei chose {computer_action}.\\n\")\n",
    "    \n",
    "    if user_action == computer_action:\n",
    "        print(f\"Both players selected {user_action}. It's a tie!\")\n",
    "    elif user_action == \"rock\":\n",
    "        if computer_action == 'scissor':\n",
    "            print(\"Rock smash scissor, you win!\")\n",
    "        else:\n",
    "            print(\"Paper cover rock, you lose.\")\n",
    "    elif user_action == 'paper':\n",
    "        if computer_action == 'rock':\n",
    "            print('Paper cover rock, you win!')\n",
    "        else:\n",
    "            print('Scissor cuts paper, you lose.')\n",
    "    elif user_action == \"scissor\":\n",
    "        if computer_action == \"paper\":\n",
    "            print('Scissor cuts paper, you win!')\n",
    "        else:\n",
    "            print('Rock smashes scissors, you lose.')\n",
    " \n",
    "    play_again = input('Play again? (yes/no): ')\n",
    "    if play_again.lower() != \"yes\":\n",
    "        break"
   ]
  },
  {
   "cell_type": "code",
   "execution_count": null,
   "metadata": {},
   "outputs": [],
   "source": [
    "\n",
    "\n",
    "\n"
   ]
  },
  {
   "cell_type": "code",
   "execution_count": null,
   "metadata": {},
   "outputs": [],
   "source": []
  }
 ],
 "metadata": {
  "kernelspec": {
   "display_name": "Python 3",
   "language": "python",
   "name": "python3"
  },
  "language_info": {
   "codemirror_mode": {
    "name": "ipython",
    "version": 3
   },
   "file_extension": ".py",
   "mimetype": "text/x-python",
   "name": "python",
   "nbconvert_exporter": "python",
   "pygments_lexer": "ipython3",
   "version": "3.8.5"
  }
 },
 "nbformat": 4,
 "nbformat_minor": 4
}
